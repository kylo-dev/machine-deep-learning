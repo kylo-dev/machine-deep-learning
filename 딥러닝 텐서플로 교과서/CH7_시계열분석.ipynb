{
  "nbformat": 4,
  "nbformat_minor": 0,
  "metadata": {
    "colab": {
      "name": "CH7-시계열분석.ipynb",
      "provenance": [],
      "collapsed_sections": []
    },
    "kernelspec": {
      "name": "python3",
      "display_name": "Python 3"
    },
    "language_info": {
      "name": "python"
    },
    "gpuClass": "standard"
  },
  "cells": [
    {
      "cell_type": "code",
      "source": [
        "from google.colab import drive\n",
        "drive.mount('/content/drive')"
      ],
      "metadata": {
        "colab": {
          "base_uri": "https://localhost:8080/"
        },
        "id": "hoTDogTrKMCn",
        "outputId": "d44d55e8-354e-470d-d8b3-b68df7fc01a0"
      },
      "execution_count": null,
      "outputs": [
        {
          "output_type": "stream",
          "name": "stdout",
          "text": [
            "Mounted at /content/drive\n"
          ]
        }
      ]
    },
    {
      "cell_type": "markdown",
      "source": [
        "## ARIMA 모형 (자동 회귀 누적 이동 평균)\n",
        "\n",
        "\n",
        ">   자기 회귀(AR)과 이동 평균(MA)을 둘 다 고려한 모형입니다. <br/>\n",
        ">   과거 데이터의 선형 관계뿐만 아니라 추세까지 고려한 모형이다.\n",
        "\n",
        "### ARIMA(p,d,q)\n",
        "*   p : 자기 회귀 차수\n",
        "*   d : 차분 차수\n",
        "*   q : 이동 평균 차수\n"
      ],
      "metadata": {
        "id": "nG7CEIZmtxxw"
      }
    },
    {
      "cell_type": "code",
      "execution_count": null,
      "metadata": {
        "colab": {
          "base_uri": "https://localhost:8080/",
          "height": 1000
        },
        "id": "JJY1dT8eKGb9",
        "outputId": "1afd3e89-c093-4cb9-c7bf-c3f4bc8f18d5"
      },
      "outputs": [
        {
          "output_type": "stream",
          "name": "stderr",
          "text": [
            "/usr/local/lib/python3.7/dist-packages/ipykernel_launcher.py:2: FutureWarning: The pandas.datetime class is deprecated and will be removed from pandas in a future version. Import from datetime module instead.\n",
            "  \n",
            "/usr/local/lib/python3.7/dist-packages/statsmodels/tools/_testing.py:19: FutureWarning: pandas.util.testing is deprecated. Use the functions in the public API at pandas.testing instead.\n",
            "  import pandas.util.testing as tm\n",
            "/usr/local/lib/python3.7/dist-packages/statsmodels/tsa/base/tsa_model.py:165: ValueWarning: No frequency information was provided, so inferred frequency MS will be used.\n",
            "  % freq, ValueWarning)\n",
            "/usr/local/lib/python3.7/dist-packages/statsmodels/tsa/base/tsa_model.py:165: ValueWarning: No frequency information was provided, so inferred frequency MS will be used.\n",
            "  % freq, ValueWarning)\n"
          ]
        },
        {
          "output_type": "stream",
          "name": "stdout",
          "text": [
            "                             ARIMA Model Results                              \n",
            "==============================================================================\n",
            "Dep. Variable:                D.Sales   No. Observations:                   35\n",
            "Model:                 ARIMA(5, 1, 0)   Log Likelihood                -197.350\n",
            "Method:                       css-mle   S.D. of innovations             66.436\n",
            "Date:                Sun, 19 Jun 2022   AIC                            408.699\n",
            "Time:                        09:43:53   BIC                            419.587\n",
            "Sample:                    02-01-1991   HQIC                           412.458\n",
            "                         - 12-01-1993                                         \n",
            "=================================================================================\n",
            "                    coef    std err          z      P>|z|      [0.025      0.975]\n",
            "---------------------------------------------------------------------------------\n",
            "const            12.4256      3.774      3.292      0.003       5.028      19.823\n",
            "ar.L1.D.Sales    -1.0850      0.188     -5.764      0.000      -1.454      -0.716\n",
            "ar.L2.D.Sales    -0.6688      0.283     -2.365      0.025      -1.223      -0.114\n",
            "ar.L3.D.Sales    -0.4426      0.297     -1.489      0.147      -1.025       0.140\n",
            "ar.L4.D.Sales    -0.0495      0.288     -0.172      0.865      -0.614       0.515\n",
            "ar.L5.D.Sales     0.1652      0.197      0.840      0.408      -0.220       0.551\n",
            "                                    Roots                                    \n",
            "=============================================================================\n",
            "                  Real          Imaginary           Modulus         Frequency\n",
            "-----------------------------------------------------------------------------\n",
            "AR.1           -1.1401           -0.4612j            1.2298           -0.4388\n",
            "AR.2           -1.1401           +0.4612j            1.2298            0.4388\n",
            "AR.3            0.0222           -1.2562j            1.2564           -0.2472\n",
            "AR.4            0.0222           +1.2562j            1.2564            0.2472\n",
            "AR.5            2.5355           -0.0000j            2.5355           -0.0000\n",
            "-----------------------------------------------------------------------------\n"
          ]
        },
        {
          "output_type": "display_data",
          "data": {
            "text/plain": [
              "<Figure size 432x288 with 1 Axes>"
            ],
            "image/png": "[encoded data removed]"
          },
          "metadata": {
            "needs_background": "light"
          }
        },
        {
          "output_type": "display_data",
          "data": {
            "text/plain": [
              "<Figure size 432x288 with 1 Axes>"
            ],
            "image/png": "[encoded data removed]"
          },
          "metadata": {
            "needs_background": "light"
          }
        },
        {
          "output_type": "stream",
          "name": "stdout",
          "text": [
            "                0\n",
            "count   35.000000\n",
            "mean    -5.569279\n",
            "std     70.272665\n",
            "min   -132.525615\n",
            "25%    -45.563840\n",
            "50%    -20.763497\n",
            "75%     39.933164\n",
            "max    163.552090\n"
          ]
        }
      ],
      "source": [
        "from pandas import read_csv\n",
        "from pandas import datetime\n",
        "from pandas import DataFrame\n",
        "from statsmodels.tsa.arima_model import ARIMA\n",
        "from matplotlib import pyplot\n",
        "\n",
        "# 시간을 표현하는 함수 정의\n",
        "def parser(x):\n",
        "    return datetime.strptime('199' + x , '%Y-%m')\n",
        "\n",
        "series = read_csv('/content/drive/MyDrive/DL_example/딥러닝 텐서플로 교과서/sales.csv', header=0, parse_dates=[0], index_col=0, squeeze=True, date_parser=parser)\n",
        "model = ARIMA(series, order=(5,1,0))\n",
        "model_fit = model.fit(disp=0)\n",
        "print(model_fit.summary())\n",
        "residuals = DataFrame(model_fit.resid)\n",
        "residuals.plot()\n",
        "pyplot.show()\n",
        "residuals.plot(kind='kde')\n",
        "pyplot.show()\n",
        "print(residuals.describe())"
      ]
    },
    {
      "cell_type": "markdown",
      "source": [
        ">   strptime()은 날짜와 시간 정보를 문자열로 바꾸어 주는 메서드이다. <br/>\n",
        ">   model.fit(disp=0) : disp=0은 모형을 적용할 때 많은 디버그 정보가 제공되는 것을 비활성화 한다. <br/>\n",
        ">   model_fit은 model.fit이 학습한 **학습 이력이 저장**되며 정보 중 오차 정보를 얻고자 할 때 **resid**를 사용한다.\n"
      ],
      "metadata": {
        "id": "TsFKc0d9uypT"
      }
    },
    {
      "cell_type": "code",
      "source": [
        "import numpy as np\n",
        "from pandas import read_csv\n",
        "from pandas import datetime\n",
        "from statsmodels.tsa.arima_model import ARIMA\n",
        "from matplotlib import pyplot\n",
        "from sklearn.metrics import mean_squared_error\n",
        "\n",
        "# 시간을 표현하는 함수 정의\n",
        "def parser(x):\n",
        "    return datetime.strptime('199' + x , '%Y-%m')\n",
        "\n",
        "series = read_csv('/content/drive/MyDrive/DL_example/딥러닝 텐서플로 교과서/sales.csv', header=0, parse_dates=[0], index_col=0, squeeze=True, date_parser=parser)\n",
        "x = series.values\n",
        "x = np.nan_to_num(x)\n",
        "size = int(len(x) * 0.66)\n",
        "train, test = x[0:size] , x[size:len(x)]\n",
        "history = [x for x in train]\n",
        "predictions = list()\n",
        "\n",
        "for t in range(len(test)):\n",
        "    model = ARIMA(history, order=(5,1,0))\n",
        "    model_fit = model.fit(disp=0)\n",
        "    output = model_fit.forecast()\n",
        "    yhat = output[0]\n",
        "    predictions.append(yhat)\n",
        "    obs = test[t]\n",
        "    history.append(obs)\n",
        "    print(f'predicted={yhat}, expected={obs}')\n",
        "\n",
        "error = mean_squared_error(test, predictions)\n",
        "print('Test MSE : %.3f'%error)\n",
        "pyplot.plot(test)\n",
        "pyplot.plot(predictions, color='red')\n",
        "pyplot.show()"
      ],
      "metadata": {
        "colab": {
          "base_uri": "https://localhost:8080/",
          "height": 558
        },
        "id": "x3FuVHDyMH-y",
        "outputId": "542a6316-41c9-47bc-db6c-1fc43a937fb1"
      },
      "execution_count": null,
      "outputs": [
        {
          "output_type": "stream",
          "name": "stderr",
          "text": [
            "/usr/local/lib/python3.7/dist-packages/ipykernel_launcher.py:3: FutureWarning: The pandas.datetime class is deprecated and will be removed from pandas in a future version. Import from datetime module instead.\n",
            "  This is separate from the ipykernel package so we can avoid doing imports until\n"
          ]
        },
        {
          "output_type": "stream",
          "name": "stdout",
          "text": [
            "predicted=[354.37774649], expected=346.3\n",
            "predicted=[288.62740889], expected=329.7\n",
            "predicted=[382.81800599], expected=445.4\n",
            "predicted=[339.54395946], expected=325.9\n",
            "predicted=[392.89726937], expected=449.3\n",
            "predicted=[354.48795155], expected=411.3\n",
            "predicted=[452.20012418], expected=417.4\n",
            "predicted=[406.80615758], expected=545.5\n",
            "predicted=[430.16207955], expected=477.6\n",
            "predicted=[492.74531837], expected=687.0\n",
            "predicted=[493.60467515], expected=435.3\n",
            "predicted=[657.39724671], expected=587.3\n",
            "predicted=[522.09116238], expected=676.9\n",
            "Test MSE : 8074.989\n"
          ]
        },
        {
          "output_type": "display_data",
          "data": {
            "text/plain": [
              "<Figure size 432x288 with 1 Axes>"
            ],
            "image/png": "[encoded data removed]"
          },
          "metadata": {
            "needs_background": "light"
          }
        }
      ]
    },
    {
      "cell_type": "markdown",
      "source": [
        ">   model_fit.forecast()를 통해 예측을 수행한다. <br/>\n",
        ">   yhat : 모델이 예측한 값을 저장 / predictions : 예측한 값을 저장하는 리스트 <br/>\n",
        ">   obs는 test값을 하나씩 주어 history 리스트에 하나씩 추가하면서, 다음의 예측을 반복적으로 수행하기 위한 변수이다.\n"
      ],
      "metadata": {
        "id": "pgLrkcl8v_g4"
      }
    },
    {
      "cell_type": "code",
      "source": [
        "print(series.values)"
      ],
      "metadata": {
        "colab": {
          "base_uri": "https://localhost:8080/"
        },
        "id": "IckQXwF9MIBb",
        "outputId": "b8878675-a4f4-492f-dd4e-3daed4e09b98"
      },
      "execution_count": null,
      "outputs": [
        {
          "output_type": "stream",
          "name": "stdout",
          "text": [
            "[266.  145.9 183.1 119.3 180.3 168.5 231.8 224.5 192.8 122.9 336.5 185.9\n",
            " 194.3 149.5 210.1 273.3 191.4 287.  226.  303.6 249.9 431.6 266.5 346.3\n",
            " 329.7 445.4 325.9 449.3 411.3 417.4 545.5 477.6 687.  435.3 587.3 676.9]\n"
          ]
        }
      ]
    },
    {
      "cell_type": "code",
      "source": [
        "print(x[:size])"
      ],
      "metadata": {
        "colab": {
          "base_uri": "https://localhost:8080/"
        },
        "id": "BniZl6vcMIES",
        "outputId": "dff7a106-fa41-474a-c63b-69e2c22cccf2"
      },
      "execution_count": null,
      "outputs": [
        {
          "output_type": "stream",
          "name": "stdout",
          "text": [
            "[266.  145.9 183.1 119.3 180.3 168.5 231.8 224.5 192.8 122.9 336.5 185.9\n",
            " 194.3 149.5 210.1 273.3 191.4 287.  226.  303.6 249.9 431.6 266.5]\n"
          ]
        }
      ]
    },
    {
      "cell_type": "code",
      "source": [
        "print(output)"
      ],
      "metadata": {
        "colab": {
          "base_uri": "https://localhost:8080/"
        },
        "id": "ry4bU5jkMIGv",
        "outputId": "f66b3bf5-99be-4e7a-89c1-08838d3f06c8"
      },
      "execution_count": null,
      "outputs": [
        {
          "output_type": "stream",
          "name": "stdout",
          "text": [
            "(array([522.09116238]), array([63.37371604]), array([[397.88096138, 646.30136338]]))\n"
          ]
        }
      ]
    },
    {
      "cell_type": "code",
      "source": [
        "print(predictions)"
      ],
      "metadata": {
        "colab": {
          "base_uri": "https://localhost:8080/"
        },
        "id": "dpFV3V8rMII_",
        "outputId": "574c9933-53d1-43a6-e857-0faed4df0b21"
      },
      "execution_count": null,
      "outputs": [
        {
          "output_type": "stream",
          "name": "stdout",
          "text": [
            "[array([354.37774649]), array([288.62740889]), array([382.81800599]), array([339.54395946]), array([392.89726937]), array([354.48795155]), array([452.20012418]), array([406.80615758]), array([430.16207955]), array([492.74531837]), array([493.60467515]), array([657.39724671]), array([522.09116238])]\n"
          ]
        }
      ]
    },
    {
      "cell_type": "markdown",
      "source": [
        "# RNN (Recurrent Neural Network)\n",
        "\n",
        "\n",
        "*   시간적으로 연속성이 있는 데이터를 처리하려고 고안된 인공 신견망\n",
        "*   이전 은닉층이 현재 은닉층의 입력이 되면서 반복되는 순환구조를 가진다.\n",
        "*   기족 네크워크와 달리 '기억'을 가지고 있으며, 새로운 입력이 네트워크로 들어올 때마다 기억은 조금씩 수정된다.\n",
        "\n",
        "\n",
        "\n",
        "![RNNimage](https://velog.velcdn.com/images%2Fyepark%2Fpost%2Ffe335221-b311-4153-b71c-080315b9a40f%2F%EA%B5%AC%E3%85%9C.PNG)\n",
        "\n",
        "\n",
        "*   첫 번째 입력이 들어오면 첫 번째 기억(h1)이 만들어진다.\n",
        "*   두 번째 입력이 들어오면 기존 기억(h1)과 새로운 입력을 참고하여 새 기억(h2)을 만든다.\n",
        "*   RNN은 **외부 입력**과 **자신의 이전 상태**를 입력받아 현재 상태를 갱신한다.\n",
        "\n",
        "\n",
        "\n",
        "---\n",
        "\n",
        "![RNNcell](https://thebook.io/img/080263/269.jpg)\n",
        "\n",
        "\n",
        "*   RNN 계층이 입력된 배치 순서열을 모두 처리한다.\n",
        "*   RNN 셀은 오직 하나의 단계만 처리한다. (RNN 셀은 RNN 계층의 for loop 구문의 내부라 할 수 있다.)\n",
        "*   **셀은 실제 계산에 사용되는 RNN 계층의 구성 요소**로 단일 입력과 과거 상태를 가져와서 출력과 새로운 상태를 생성한다.\n",
        "\n",
        "\n"
      ],
      "metadata": {
        "id": "cHEuJRqV2Ju9"
      }
    },
    {
      "cell_type": "markdown",
      "source": [
        "---\n",
        "\n",
        "## IMDB 데이터셋 분석하기"
      ],
      "metadata": {
        "id": "dBwzx4a_UEpH"
      }
    },
    {
      "cell_type": "code",
      "source": [
        "import os\n",
        "# 케라스에서 발생하는 경고 메시지를 제거\n",
        "os.environ['TF_CPP_MIN_LOG_LEVEL'] = \"2\"\n",
        "\n",
        "import tensorflow as tf\n",
        "import numpy as np\n",
        "from tensorflow import keras\n",
        "from tensorflow.keras import layers\n",
        "from tensorflow.keras.models import Sequential\n",
        "from tensorflow.keras.layers import Dense\n",
        "from tensorflow.keras.optimizers import Adam"
      ],
      "metadata": {
        "id": "AGF6XXBQMIKk"
      },
      "execution_count": null,
      "outputs": []
    },
    {
      "cell_type": "code",
      "source": [
        "tf.random.set_seed(22)\n",
        "np.random.seed(22)\n",
        "assert tf.__version__.startswith('2.')\n",
        "\n",
        "batch_size = 128\n",
        "total_words = 10000\n",
        "max_review_len = 80\n",
        "embedding_len = 100"
      ],
      "metadata": {
        "id": "VgblUCdaOeVw"
      },
      "execution_count": null,
      "outputs": []
    },
    {
      "cell_type": "code",
      "source": [
        "(x_train, y_train), (x_test, y_test) = tf.keras.datasets.imdb.load_data(num_words=total_words)\n",
        "\n",
        "x_train = tf.keras.preprocessing.sequence.pad_sequences(x_train, maxlen=max_review_len)\n",
        "x_test = tf.keras.preprocessing.sequence.pad_sequences(x_test, maxlen=max_review_len)\n",
        "\n",
        "train_data = tf.data.Dataset.from_tensor_slices((x_train, y_train))\n",
        "train_data = train_data.shuffle(10000).batch(batch_size, drop_remainder=True)\n",
        "\n",
        "test_data = tf.data.Dataset.from_tensor_slices((x_test, y_test))\n",
        "test_data = test_data.batch(batch_size, drop_remainder=True)\n",
        "print('x_train_shape:', x_train.shape, tf.reduce_max(y_train), tf.reduce_min(y_train))\n",
        "print('x_test_shape:', x_test.shape)\n",
        "\n",
        "sample = next(iter(test_data))\n",
        "print(sample[0].shape)"
      ],
      "metadata": {
        "colab": {
          "base_uri": "https://localhost:8080/"
        },
        "id": "eEo6leIMOeYb",
        "outputId": "d8f171f8-a3e2-4e21-9d51-931c32cff878"
      },
      "execution_count": null,
      "outputs": [
        {
          "output_type": "stream",
          "name": "stdout",
          "text": [
            "Downloading data from https://storage.googleapis.com/tensorflow/tf-keras-datasets/imdb.npz\n",
            "17465344/17464789 [==============================] - 0s 0us/step\n",
            "17473536/17464789 [==============================] - 0s 0us/step\n",
            "x_train_shape: (25000, 80) tf.Tensor(1, shape=(), dtype=int64) tf.Tensor(0, shape=(), dtype=int64)\n",
            "x_test_shape: (25000, 80)\n",
            "(128, 80)\n"
          ]
        }
      ]
    },
    {
      "cell_type": "markdown",
      "source": [
        "*   imdb.load_data() : IMDB 데이터셋을 내려받는다. (num_words는 등장 빈도 순위로 몇 번째까지 사용할지를 의미한다.)\n",
        "*   pad_sequence() : 모델의 입력으로 사용하기 위해서 모든 샘플 길이를 동일하게 맞추어야 한다. (이를 자연어 처리에서는 패딩이라고 한다. / 보통 숫자 0을 넣어서 길이가 다른 샘플들의 길이를 맞춘다.)\n"
      ],
      "metadata": {
        "id": "Q4HnAt98xKPF"
      }
    },
    {
      "cell_type": "markdown",
      "source": [
        "## RNN 셀을 이용한 네크워크 생성"
      ],
      "metadata": {
        "id": "xfXuGXrEXOvC"
      }
    },
    {
      "cell_type": "code",
      "source": [
        "class RNN_Build(tf.keras.Model):\n",
        "    def __init__(self, units):\n",
        "        super(RNN_Build, self).__init__()\n",
        "\n",
        "        self.state0 = [tf.zeros([batch_size, units])]\n",
        "        self.state1 = [tf.zeros([batch_size, units])]\n",
        "        self.embedding = tf.keras.layers.Embedding(total_words, embedding_len, input_length=max_review_len)\n",
        "\n",
        "        self.RNNCell0 = tf.keras.layers.SimpleRNNCell(units, dropout=0.2)\n",
        "        self.RNNCell1 = tf.keras.layers.SimpleRNNCell(units, dropout=0.2)\n",
        "        self.outlayer = tf.keras.layers.Dense(1)\n",
        "    \n",
        "    def call(self, inputs, training=None):\n",
        "        x = inputs\n",
        "        x = self.embedding(x)\n",
        "        state0 = self.state0\n",
        "        state1 = self.state1\n",
        "        for word in tf.unstack(x, axis=1):\n",
        "            out0, state0 = self.RNNCell0(word, state0, training)\n",
        "            out1, state1 = self.RNNCell1(out0, state1, training)\n",
        "        x = self.outlayer(out1)\n",
        "        prob = tf.sigmoid(x)\n",
        "        return prob"
      ],
      "metadata": {
        "id": "8fLQgV8nOeav"
      },
      "execution_count": null,
      "outputs": []
    },
    {
      "cell_type": "code",
      "source": [
        "import time\n",
        "units = 64\n",
        "epochs = 4\n",
        "t0 = time.time()\n",
        "\n",
        "model = RNN_Build(units)\n",
        "model.compile(optimizer=tf.keras.optimizers.Adam(0.001),\n",
        "              loss=tf.losses.BinaryCrossentropy(),\n",
        "              metrics=['accuracy'],\n",
        "              experimental_run_tf_function=False)\n",
        "model.fit(train_data, epochs=epochs, validation_data=test_data, validation_freq=2)"
      ],
      "metadata": {
        "colab": {
          "base_uri": "https://localhost:8080/"
        },
        "id": "wTUruyVDOedW",
        "outputId": "07dcd919-08a3-4a94-c5c2-cf54b3be6e7c"
      },
      "execution_count": null,
      "outputs": [
        {
          "output_type": "stream",
          "name": "stdout",
          "text": [
            "Epoch 1/4\n",
            "195/195 [==============================] - 20s 60ms/step - loss: 0.5104 - accuracy: 0.7284\n",
            "Epoch 2/4\n",
            "195/195 [==============================] - 16s 81ms/step - loss: 0.3147 - accuracy: 0.8690 - val_loss: 0.3972 - val_accuracy: 0.8234\n",
            "Epoch 3/4\n",
            "195/195 [==============================] - 11s 58ms/step - loss: 0.2032 - accuracy: 0.9225\n",
            "Epoch 4/4\n",
            "195/195 [==============================] - 15s 77ms/step - loss: 0.1030 - accuracy: 0.9628 - val_loss: 0.6047 - val_accuracy: 0.8057\n"
          ]
        },
        {
          "output_type": "execute_result",
          "data": {
            "text/plain": [
              "<keras.callbacks.History at 0x7f7e68af3ad0>"
            ]
          },
          "metadata": {},
          "execution_count": 16
        }
      ]
    },
    {
      "cell_type": "code",
      "source": [
        "print(\"훈련 데이터셋 평가...\")\n",
        "(loss, accuracy) = model.evaluate(train_data, verbose=0)\n",
        "print(\"loss={:.4f}, accuracy: {:.4f}%\".format(loss,accuracy * 100))\n",
        "print(\"테스트 데이터셋 평가...\")\n",
        "(loss, accuracy) = model.evaluate(test_data, verbose=0)\n",
        "print(\"loss={:.4f}, accuracy: {:.4f}%\".format(loss,accuracy * 100))\n",
        "\n",
        "t1 = time.time()\n",
        "print('시간:', t1-t0)"
      ],
      "metadata": {
        "colab": {
          "base_uri": "https://localhost:8080/"
        },
        "id": "7bv_81EvavIX",
        "outputId": "7555bcab-da57-4eb9-ff3e-a9bfe694262f"
      },
      "execution_count": null,
      "outputs": [
        {
          "output_type": "stream",
          "name": "stdout",
          "text": [
            "훈련 데이터셋 평가...\n",
            "loss=0.0318, accuracy: 99.2788%\n",
            "테스트 데이터셋 평가...\n",
            "loss=0.6047, accuracy: 80.5729%\n",
            "시간: 720.1865139007568\n"
          ]
        }
      ]
    },
    {
      "cell_type": "markdown",
      "source": [
        "## RNN 계층을 이용한 네트워크 구축"
      ],
      "metadata": {
        "id": "TDF-zXRSgwQi"
      }
    },
    {
      "cell_type": "code",
      "source": [
        "class RNN_Build(tf.keras.Model):\n",
        "    def __init__(self, units):\n",
        "        super(RNN_Build, self).__init__()\n",
        "        self.embedding = tf.keras.layers.Embedding(total_words, embedding_len, input_length=max_review_len)\n",
        "        self.rnn = tf.keras.Sequential([\n",
        "            tf.keras.layers.SimpleRNN(units, dropout=0.5, return_sequences=True),\n",
        "            tf.keras.layers.SimpleRNN(units, dropout=0.5)\n",
        "        ])\n",
        "        self.outlayer = tf.keras.layers.Dense(1)\n",
        "\n",
        "    def call(self, inputs, training=None):\n",
        "        x = inputs\n",
        "        x = self.embedding(x)\n",
        "        x = self.rnn(x)\n",
        "        x = self.outlayer(x)\n",
        "        prob = tf.sigmoid(x)\n",
        "\n",
        "        return prob"
      ],
      "metadata": {
        "id": "2xYApfPHavKs"
      },
      "execution_count": null,
      "outputs": []
    },
    {
      "cell_type": "code",
      "source": [
        "import time\n",
        "units = 64\n",
        "epochs = 4\n",
        "t0 = time.time()\n",
        "\n",
        "model = RNN_Build(units)\n",
        "    \n",
        "model.compile(optimizer=tf.keras.optimizers.Adam(0.001),\n",
        "              loss=tf.losses.BinaryCrossentropy(),\n",
        "              metrics=['accuracy'],\n",
        "              experimental_run_tf_function=False)\n",
        "    \n",
        "model.fit(train_data, epochs=epochs, validation_data=test_data, validation_freq=2)"
      ],
      "metadata": {
        "colab": {
          "base_uri": "https://localhost:8080/"
        },
        "id": "BXFLsFbrjx-L",
        "outputId": "f7b2fbb9-0891-4a93-dc4e-2d040757355c"
      },
      "execution_count": null,
      "outputs": [
        {
          "output_type": "stream",
          "name": "stdout",
          "text": [
            "Epoch 1/4\n",
            "195/195 [==============================] - 24s 103ms/step - loss: 0.5513 - accuracy: 0.7023\n",
            "Epoch 2/4\n",
            "195/195 [==============================] - 25s 128ms/step - loss: 0.3627 - accuracy: 0.8487 - val_loss: 0.4003 - val_accuracy: 0.8266\n",
            "Epoch 3/4\n",
            "195/195 [==============================] - 22s 111ms/step - loss: 0.3048 - accuracy: 0.8764\n",
            "Epoch 4/4\n",
            "195/195 [==============================] - 26s 131ms/step - loss: 0.2440 - accuracy: 0.9050 - val_loss: 0.5218 - val_accuracy: 0.8165\n"
          ]
        },
        {
          "output_type": "execute_result",
          "data": {
            "text/plain": [
              "<keras.callbacks.History at 0x7f7e668db0d0>"
            ]
          },
          "metadata": {},
          "execution_count": 30
        }
      ]
    },
    {
      "cell_type": "code",
      "source": [
        "print(\"훈련 데이터셋 평가...\")\n",
        "(loss, accuracy) = model.evaluate(train_data, verbose=0)\n",
        "print(\"loss={:.4f}, accuracy: {:.4f}%\".format(loss,accuracy * 100))\n",
        "print(\"테스트 데이터셋 평가...\")\n",
        "(loss, accuracy) = model.evaluate(test_data, verbose=0)\n",
        "print(\"loss={:.4f}, accuracy: {:.4f}%\".format(loss,accuracy * 100))\n",
        "\n",
        "t1 = time.time()\n",
        "print('시간:', t1-t0)"
      ],
      "metadata": {
        "colab": {
          "base_uri": "https://localhost:8080/"
        },
        "id": "GY_9CMjPgzj2",
        "outputId": "3d1fc224-88d0-41d5-8e62-2d046774e597"
      },
      "execution_count": null,
      "outputs": [
        {
          "output_type": "stream",
          "name": "stdout",
          "text": [
            "훈련 데이터셋 평가...\n",
            "loss=0.0318, accuracy: 99.2788%\n",
            "테스트 데이터셋 평가...\n",
            "loss=0.6047, accuracy: 80.5729%\n",
            "시간: 1826.626000404358\n"
          ]
        }
      ]
    },
    {
      "cell_type": "markdown",
      "source": [
        "---\n",
        "## LSTM 셀 구현\n",
        "\n",
        "\n",
        "*   RNN은 가중치가 업데이트되는 과정에서 1보다 작은 값이 계속 곱해지기 때문에 기울기가 사라지는 기울기 소멸 문제가 발생한다.\n",
        "*   이를 해결하고자 개발된 모델이 LSTM, GPU가 있다.\n",
        "\n",
        "![lstm](https://thebook.io/img/080263/286_2.jpg)\n",
        "\n",
        "\n",
        "\n",
        "*   망각 게이트 : 과거 정보를 어느 정도 기억할지 결정한다.(과거 정보와 현재 데이터를 입력받아 시그모이드를 취한 후 그 값을 과거 정보에 곱해준다.)\n",
        "*   입력 게이트 : 현재 정보를 기억한다. (과거 정보와 현재 데이터를 입력받아 시그모이드와 하이퍼볼릭 탄젠트 함수를 기반으로 현재 정보에 대한 보존량을 결정한다.)\n",
        "*   셀 : 각 단계에 대한 은닉 노드를 메모리 셀이라고 한다. (망각 게이트와 입력 게이트의 이전 단계 셀 정보를 계산하여 현재 단계의 셀 상태를 업데이트한다.)\n",
        "*   출력 게이트 : 과거 정보와 현재 데이터를 사용하여 뉴련의 출력을 결정한다.(이전 은닉 상태와 t번째 입력을 고려해서 다음 은닉 상태를 계산한다.)\n"
      ],
      "metadata": {
        "id": "J58ugUa8qVBu"
      }
    },
    {
      "cell_type": "code",
      "source": [
        "class LSTM_Build(tf.keras.Model):\n",
        "    def __init__(self, units):\n",
        "        super(LSTM_Build, self).__init__()\n",
        "\n",
        "        self.state0 = [tf.zeros([batch_size, units]), tf.zeros([batch_size, units])]\n",
        "        self.state1 = [tf.zeros([batch_size, units]), tf.zeros([batch_size, units])]\n",
        "\n",
        "        self.embedding = tf.keras.layers.Embedding(total_words, embedding_len, input_length=max_review_len)\n",
        "        self.RNNCell0 = tf.keras.layers.LSTMCell(units, dropout=0.5)\n",
        "        self.RNNCell1 = tf.keras.layers.LSTMCell(units, dropout=0.5)\n",
        "        self.outlayer = tf.keras.layers.Dense(1)\n",
        "\n",
        "    def call(self, inputs, training=None):\n",
        "\n",
        "        x = inputs\n",
        "        x = self.embedding(x)\n",
        "        state0 = self.state0\n",
        "        state1 = self.state1\n",
        "        for word in tf.unstack(x, axis=1):    \n",
        "\n",
        "            out0, state0 = self.RNNCell0(word, state0, training)\n",
        "            out1, state1 = self.RNNCell1(out0, state1, training)\n",
        "\n",
        "        x = self.outlayer(out1)\n",
        "        prob = tf.sigmoid(x)\n",
        "        return prob"
      ],
      "metadata": {
        "id": "oBsFjo29gzmj"
      },
      "execution_count": null,
      "outputs": []
    },
    {
      "cell_type": "code",
      "source": [
        "import time\n",
        "units = 64\n",
        "epochs = 4\n",
        "t0 = time.time()\n",
        "\n",
        "model = LSTM_Build(units)\n",
        "    \n",
        "model.compile(optimizer=tf.keras.optimizers.Adam(0.001),\n",
        "              loss=tf.losses.BinaryCrossentropy(),\n",
        "              metrics=['accuracy'],\n",
        "              experimental_run_tf_function=False)\n",
        "    \n",
        "model.fit(train_data, epochs=epochs, validation_data=test_data, validation_freq=2)"
      ],
      "metadata": {
        "colab": {
          "base_uri": "https://localhost:8080/"
        },
        "id": "YtcthFpPgzok",
        "outputId": "74b91485-9714-4545-ab26-ad4e37199018"
      },
      "execution_count": null,
      "outputs": [
        {
          "output_type": "stream",
          "name": "stdout",
          "text": [
            "Epoch 1/4\n",
            "195/195 [==============================] - 68s 260ms/step - loss: 0.4818 - accuracy: 0.7580\n",
            "Epoch 2/4\n",
            "195/195 [==============================] - 69s 352ms/step - loss: 0.3131 - accuracy: 0.8699 - val_loss: 0.3657 - val_accuracy: 0.8374\n",
            "Epoch 3/4\n",
            "195/195 [==============================] - 54s 275ms/step - loss: 0.2608 - accuracy: 0.8958\n",
            "Epoch 4/4\n",
            "195/195 [==============================] - 60s 311ms/step - loss: 0.2204 - accuracy: 0.9142 - val_loss: 0.4045 - val_accuracy: 0.8302\n"
          ]
        },
        {
          "output_type": "execute_result",
          "data": {
            "text/plain": [
              "<keras.callbacks.History at 0x7f7e66543110>"
            ]
          },
          "metadata": {},
          "execution_count": 32
        }
      ]
    },
    {
      "cell_type": "code",
      "source": [
        "print(\"훈련 데이터셋 평가...\")\n",
        "(loss, accuracy) = model.evaluate(train_data, verbose=0)\n",
        "print(\"loss={:.4f}, accuracy: {:.4f}%\".format(loss,accuracy * 100))\n",
        "print(\"테스트 데이터셋 평가...\")\n",
        "(loss, accuracy) = model.evaluate(test_data, verbose=0)\n",
        "print(\"loss={:.4f}, accuracy: {:.4f}%\".format(loss,accuracy * 100))\n",
        "\n",
        "t1 = time.time()\n",
        "print('시간:', t1-t0)"
      ],
      "metadata": {
        "colab": {
          "base_uri": "https://localhost:8080/"
        },
        "id": "NTY8ZR8pgzqz",
        "outputId": "253a31fa-bf10-425b-914d-8d7af0364fb5"
      },
      "execution_count": null,
      "outputs": [
        {
          "output_type": "stream",
          "name": "stdout",
          "text": [
            "훈련 데이터셋 평가...\n",
            "loss=0.1523, accuracy: 95.2925%\n",
            "테스트 데이터셋 평가...\n",
            "loss=0.4045, accuracy: 83.0208%\n",
            "시간: 396.9274115562439\n"
          ]
        }
      ]
    },
    {
      "cell_type": "markdown",
      "source": [
        "## LSTM 계층 구현"
      ],
      "metadata": {
        "id": "byfpw1oayNv8"
      }
    },
    {
      "cell_type": "code",
      "source": [
        "# LSTM 계층 구현\n",
        "class LSTM_Build(tf.keras.Model):\n",
        "\n",
        "    def __init__(self, units):\n",
        "        super(LSTM_Build, self).__init__()\n",
        "        self.embedding = tf.keras.layers.Embedding(total_words, embedding_len,\n",
        "                                                input_length=max_review_len)\n",
        "        self.rnn = tf.keras.Sequential([\n",
        "                tf.keras.layers.LSTM(units, dropout=0.5, return_sequences=True),\n",
        "                tf.keras.layers.LSTM(units, dropout=0.5, unroll=True)\n",
        "        ])\n",
        "        self.outlayer = tf.keras.layers.Dense(1)\n",
        "\n",
        "    def call(self, inputs, training=None):\n",
        "        x = inputs\n",
        "        x = self.embedding(x)\n",
        "        x = self.rnn(x)\n",
        "        x = self.outlayer(x)\n",
        "        prob = tf.sigmoid(x)\n",
        "        return prob"
      ],
      "metadata": {
        "id": "lkSGXH2oavNC"
      },
      "execution_count": null,
      "outputs": []
    },
    {
      "cell_type": "code",
      "source": [
        "import time\n",
        "units = 64\n",
        "epochs = 4\n",
        "t0 = time.time()\n",
        "\n",
        "model = LSTM_Build(units)\n",
        "    \n",
        "model.compile(optimizer=tf.keras.optimizers.Adam(0.001),\n",
        "              loss=tf.losses.BinaryCrossentropy(),\n",
        "              metrics=['accuracy'],\n",
        "              experimental_run_tf_function=False)\n",
        "    \n",
        "model.fit(train_data, epochs=epochs, validation_data=test_data, validation_freq=2)"
      ],
      "metadata": {
        "colab": {
          "base_uri": "https://localhost:8080/"
        },
        "id": "l1_9JbPysBW9",
        "outputId": "c80e7f9f-45c2-47c0-9e50-152507a09bb9"
      },
      "execution_count": null,
      "outputs": [
        {
          "output_type": "stream",
          "name": "stdout",
          "text": [
            "Epoch 1/4\n",
            "195/195 [==============================] - 80s 356ms/step - loss: 0.4793 - accuracy: 0.7612\n",
            "Epoch 2/4\n",
            "195/195 [==============================] - 66s 340ms/step - loss: 0.3123 - accuracy: 0.8710 - val_loss: 0.3707 - val_accuracy: 0.8350\n",
            "Epoch 3/4\n",
            "195/195 [==============================] - 45s 232ms/step - loss: 0.2608 - accuracy: 0.8957\n",
            "Epoch 4/4\n",
            "195/195 [==============================] - 72s 369ms/step - loss: 0.2226 - accuracy: 0.9141 - val_loss: 0.3940 - val_accuracy: 0.8326\n"
          ]
        },
        {
          "output_type": "execute_result",
          "data": {
            "text/plain": [
              "<keras.callbacks.History at 0x7f7e63160090>"
            ]
          },
          "metadata": {},
          "execution_count": 35
        }
      ]
    },
    {
      "cell_type": "code",
      "source": [
        "print(\"훈련 데이터셋 평가...\")\n",
        "(loss, accuracy) = model.evaluate(train_data, verbose=0)\n",
        "print(\"loss={:.4f}, accuracy: {:.4f}%\".format(loss,accuracy * 100))\n",
        "print(\"테스트 데이터셋 평가...\")\n",
        "(loss, accuracy) = model.evaluate(test_data, verbose=0)\n",
        "print(\"loss={:.4f}, accuracy: {:.4f}%\".format(loss,accuracy * 100))\n",
        "\n",
        "t1 = time.time()\n",
        "print('시간:', t1-t0)"
      ],
      "metadata": {
        "colab": {
          "base_uri": "https://localhost:8080/"
        },
        "id": "X3gPJiJ8sBZc",
        "outputId": "3c6ca245-38a2-42a5-9ae2-385c870aaf10"
      },
      "execution_count": null,
      "outputs": [
        {
          "output_type": "stream",
          "name": "stdout",
          "text": [
            "훈련 데이터셋 평가...\n",
            "loss=0.1623, accuracy: 94.9119%\n",
            "테스트 데이터셋 평가...\n",
            "loss=0.3940, accuracy: 83.2612%\n",
            "시간: 828.6637542247772\n"
          ]
        }
      ]
    },
    {
      "cell_type": "markdown",
      "source": [
        "## GPU\n",
        "\n",
        "> 1. GPU는 LSTM에서 사용하는 망각 게이트와 입력 게이트를 하나로 합친 것이며, 별도의 업데이트 게이트가 있다.\n",
        "2.   컨트롤러가 망각 게이트와 업데이트 게이트를 모두 제어하며, 1을 출력하면 망각 게이트는 열리고 입력 게이트는 닫힌다. 반대로 0을 출력하면 망각 게이트는 닫히고 입력 게이트는 열린다. (즉, 이전 기억이 저장될 때마다 단계별 입력은 삭제된다.)\n",
        "3.   GPU는 출력 게이트가 없어 전체 상태 벡터가 매 단계마다 출력되며, 이전 상태의 어느 부분이 출력될지 제어하는 새로운 게이트 컨트롤러(후보군)가 별도로 존재한다.\n",
        "\n",
        "\n",
        "---\n",
        "<br/>\n",
        "\n",
        "*   망각 게이트 : 과거 정보를 적당히 초기화시키려는 목적으로, 시그모이드 함수를 출력으로 이용하여 (0,1) 값을 이전 은닉충에 곱한다.\n",
        "*   업데이트 게이트 : 과거와 현재 정보의 최신화 비율을 결정하는 역할을 한다.\n",
        "*   후보군 : 현 시점의 정보에 대한 후보군을 계산한다. (과거 은닉층의 정보를 그대로 이용하지 않고 망각 게이트의 결과를 이용하여 후보군을 계산한다.)\n",
        "*   은닉층 계산 : 업데이트 게이트 결과와 후보군 결과를 결합하여 현 시점의 은닉층을 계산한다.\n",
        "\n",
        "\n"
      ],
      "metadata": {
        "id": "Jq0eIGSexDps"
      }
    },
    {
      "cell_type": "code",
      "source": [
        "class GRU_Build(tf.keras.Model):\n",
        "\n",
        "    def __init__(self, units):\n",
        "        super(GRU_Build, self).__init__()\n",
        "\n",
        "        self.state0 = [tf.zeros([batch_size, units])]\n",
        "        self.state1 = [tf.zeros([batch_size, units])]\n",
        "\n",
        "        self.embedding = tf.keras.layers.Embedding(total_words, embedding_len, input_length=max_review_len)\n",
        "        self.RNNCell0 = tf.keras.layers.GRUCell(units, dropout=0.5)\n",
        "        self.RNNCell1 = tf.keras.layers.GRUCell(units, dropout=0.5)\n",
        "        self.outlayer = tf.keras.layers.Dense(1)\n",
        "\n",
        "    def call(self, inputs, training=None):\n",
        "        x = inputs\n",
        "        x = self.embedding(x)\n",
        "        state0 = self.state0\n",
        "        state1 = self.state1\n",
        "        for word in tf.unstack(x, axis=1):    \n",
        "            out0, state0 = self.RNNCell0(word, state0, training)   \n",
        "            out1, state1 = self.RNNCell1(out0, state1, training)\n",
        "        x = self.outlayer(out1)\n",
        "        prob = tf.sigmoid(x)\n",
        "\n",
        "        return prob"
      ],
      "metadata": {
        "id": "s1olgtCxsBb_"
      },
      "execution_count": null,
      "outputs": []
    },
    {
      "cell_type": "code",
      "source": [
        "import time\n",
        "units = 64\n",
        "epochs = 4\n",
        "t0 = time.time()\n",
        "\n",
        "model = GRU_Build(units)\n",
        "    \n",
        "model.compile(optimizer=tf.keras.optimizers.Adam(0.001),\n",
        "              loss=tf.losses.BinaryCrossentropy(),\n",
        "              metrics=['accuracy'],\n",
        "              experimental_run_tf_function=False)\n",
        "    \n",
        "model.fit(train_data, epochs=epochs, validation_data=test_data, validation_freq=2)"
      ],
      "metadata": {
        "colab": {
          "base_uri": "https://localhost:8080/"
        },
        "id": "E0n0E3ejsBeV",
        "outputId": "3aaac2d9-ac76-4a9f-ce46-616bfbdd9e4c"
      },
      "execution_count": null,
      "outputs": [
        {
          "output_type": "stream",
          "name": "stdout",
          "text": [
            "Epoch 1/4\n",
            "195/195 [==============================] - 46s 140ms/step - loss: 0.5083 - accuracy: 0.7326\n",
            "Epoch 2/4\n",
            "195/195 [==============================] - 41s 209ms/step - loss: 0.3150 - accuracy: 0.8670 - val_loss: 0.3564 - val_accuracy: 0.8427\n",
            "Epoch 3/4\n",
            "195/195 [==============================] - 27s 139ms/step - loss: 0.2679 - accuracy: 0.8946\n",
            "Epoch 4/4\n",
            "195/195 [==============================] - 34s 177ms/step - loss: 0.2284 - accuracy: 0.9113 - val_loss: 0.3877 - val_accuracy: 0.8370\n"
          ]
        },
        {
          "output_type": "execute_result",
          "data": {
            "text/plain": [
              "<keras.callbacks.History at 0x7f7e5e4854d0>"
            ]
          },
          "metadata": {},
          "execution_count": 38
        }
      ]
    },
    {
      "cell_type": "code",
      "source": [
        "print(\"훈련 데이터셋 평가...\")\n",
        "(loss, accuracy) = model.evaluate(train_data, verbose=0)\n",
        "print(\"loss={:.4f}, accuracy: {:.4f}%\".format(loss,accuracy * 100))\n",
        "print(\"테스트 데이터셋 평가...\")\n",
        "(loss, accuracy) = model.evaluate(test_data, verbose=0)\n",
        "print(\"loss={:.4f}, accuracy: {:.4f}%\".format(loss,accuracy * 100))\n",
        "\n",
        "t1 = time.time()\n",
        "print('시간:', t1-t0)"
      ],
      "metadata": {
        "colab": {
          "base_uri": "https://localhost:8080/"
        },
        "id": "VN_nbJGUxHWa",
        "outputId": "243cc072-3bb2-4d98-e38b-153e15375980"
      },
      "execution_count": null,
      "outputs": [
        {
          "output_type": "stream",
          "name": "stdout",
          "text": [
            "훈련 데이터셋 평가...\n",
            "loss=0.1564, accuracy: 95.1322%\n",
            "테스트 데이터셋 평가...\n",
            "loss=0.3877, accuracy: 83.7019%\n",
            "시간: 416.1673560142517\n"
          ]
        }
      ]
    },
    {
      "cell_type": "markdown",
      "source": [
        "## GPU 계층 구현"
      ],
      "metadata": {
        "id": "AC1vsFHhyeCw"
      }
    },
    {
      "cell_type": "code",
      "source": [
        "# GPU 계층 구현\n",
        "class GRU_Build(tf.keras.Model):\n",
        "\n",
        "    def __init__(self, units):\n",
        "        super(GRU_Build, self).__init__()\n",
        "\n",
        "        self.embedding = tf.keras.layers.Embedding(total_words, embedding_len, input_length=max_review_len)\n",
        "        self.rnn = tf.keras.Sequential([\n",
        "            tf.keras.layers.GRU(units, dropout=0.5, return_sequences=True, unroll=True),\n",
        "            tf.keras.layers.GRU(units, dropout=0.5, unroll=True)\n",
        "        ])\n",
        "        self.outlayer = tf.keras.layers.Dense(1)\n",
        "\n",
        "    def call(self, inputs, training=None):\n",
        "\n",
        "        x = inputs\n",
        "        x = self.embedding(x)\n",
        "        x = self.rnn(x)\n",
        "        x = self.outlayer(x)\n",
        "        prob = tf.sigmoid(x)\n",
        "        return prob"
      ],
      "metadata": {
        "id": "ycnp864jxHYx"
      },
      "execution_count": null,
      "outputs": []
    },
    {
      "cell_type": "code",
      "source": [
        "import time\n",
        "units = 64\n",
        "epochs = 4\n",
        "t0 = time.time()\n",
        "\n",
        "model = GRU_Build(units)\n",
        "    \n",
        "model.compile(optimizer=tf.keras.optimizers.Adam(0.001),\n",
        "              loss=tf.losses.BinaryCrossentropy(),\n",
        "              metrics=['accuracy'],\n",
        "              experimental_run_tf_function=False)\n",
        "    \n",
        "model.fit(train_data, epochs=epochs, validation_data=test_data, validation_freq=2)"
      ],
      "metadata": {
        "colab": {
          "base_uri": "https://localhost:8080/"
        },
        "id": "cp1NF5cNxHbJ",
        "outputId": "e2cfa5ca-b7ef-4686-8155-a98b9a5e20ac"
      },
      "execution_count": null,
      "outputs": [
        {
          "output_type": "stream",
          "name": "stdout",
          "text": [
            "Epoch 1/4\n",
            "195/195 [==============================] - 54s 163ms/step - loss: 0.5045 - accuracy: 0.7330\n",
            "Epoch 2/4\n",
            "195/195 [==============================] - 48s 246ms/step - loss: 0.3219 - accuracy: 0.8660 - val_loss: 0.3563 - val_accuracy: 0.8438\n",
            "Epoch 3/4\n",
            "195/195 [==============================] - 30s 156ms/step - loss: 0.2589 - accuracy: 0.8966\n",
            "Epoch 4/4\n",
            "195/195 [==============================] - 40s 205ms/step - loss: 0.2238 - accuracy: 0.9131 - val_loss: 0.3880 - val_accuracy: 0.8357\n"
          ]
        },
        {
          "output_type": "execute_result",
          "data": {
            "text/plain": [
              "<keras.callbacks.History at 0x7f7e53947ad0>"
            ]
          },
          "metadata": {},
          "execution_count": 41
        }
      ]
    },
    {
      "cell_type": "code",
      "source": [
        "print(\"훈련 데이터셋 평가...\")\n",
        "(loss, accuracy) = model.evaluate(train_data, verbose=0)\n",
        "print(\"loss={:.4f}, accuracy: {:.4f}%\".format(loss,accuracy * 100))\n",
        "print(\"테스트 데이터셋 평가...\")\n",
        "(loss, accuracy) = model.evaluate(test_data, verbose=0)\n",
        "print(\"loss={:.4f}, accuracy: {:.4f}%\".format(loss,accuracy * 100))\n",
        "\n",
        "t1 = time.time()\n",
        "print('시간:', t1-t0)"
      ],
      "metadata": {
        "colab": {
          "base_uri": "https://localhost:8080/"
        },
        "id": "NkcHt61yxHdj",
        "outputId": "74255842-588a-4f71-f3a9-009c1fc9cac3"
      },
      "execution_count": null,
      "outputs": [
        {
          "output_type": "stream",
          "name": "stdout",
          "text": [
            "훈련 데이터셋 평가...\n",
            "loss=0.1562, accuracy: 95.2845%\n",
            "테스트 데이터셋 평가...\n",
            "loss=0.3880, accuracy: 83.5737%\n",
            "시간: 800.5125257968903\n"
          ]
        }
      ]
    },
    {
      "cell_type": "markdown",
      "source": [
        "## 양방향 RNN\n",
        "\n",
        ">   RNN은 이전 시점의 데이터들을 참고해 정답을 예측하지만, 실제 문제에서는 과거 시점이 아닌 미래 시점의 데이터에 힌트가 있는 경우가 많다. <br/> 따라서 이전 시점의 데이터뿐만 아니라 이후 시점의 데이터도 함께 활용하여 출력 값을 예측하고자 하는 것이 양방향 RNN이다.\n",
        "\n",
        "\n",
        "*   하나의 출력 값을 예측하는 데 메모리 셀 2개를 사용\n",
        "*   첫 번째 : 이전 시점의 은닉 상태를 전달받아 현재의 은닉 상태를 계산\n",
        "*   두 번째 : 다음 시점의 은닉 상태를 전달받아 현재의 은닉 상태를 계산\n",
        "*   이 값 두개를 모두 출력층에서 출력 값을 예측하는데 사용\n",
        "\n"
      ],
      "metadata": {
        "id": "l7HbQR-_x0kh"
      }
    },
    {
      "cell_type": "code",
      "source": [
        "import numpy as np\n",
        "from tensorflow.keras.preprocessing import sequence\n",
        "from tensorflow.keras.models import Sequential\n",
        "from tensorflow.keras.layers import Dense, Dropout, Embedding, LSTM, Bidirectional\n",
        "from tensorflow.keras.optimizers import Adam\n",
        "from tensorflow.keras.datasets import imdb\n",
        "\n",
        "n_unique_words = 10000 \n",
        "maxlen = 200\n",
        "batch_size = 128\n",
        "\n",
        "(x_train, y_train), (x_test, y_test) = imdb.load_data(num_words=n_unique_words)\n",
        "x_train = sequence.pad_sequences(x_train, maxlen=maxlen)\n",
        "x_test = sequence.pad_sequences(x_test, maxlen=maxlen)\n",
        "y_train = np.array(y_train)\n",
        "y_test = np.array(y_test)\n",
        "\n",
        "model = Sequential()\n",
        "model.add(Embedding(n_unique_words, 128, input_length=maxlen))\n",
        "model.add(Bidirectional(LSTM(64)))\n",
        "model.add(Dropout(0.5))\n",
        "model.add(Dense(1, activation='sigmoid'))\n",
        "\n",
        "model.compile(loss='binary_crossentropy', optimizer='adam', metrics=['accuracy'])\n",
        "\n",
        "model.fit(x_train, y_train,\n",
        "          batch_size=batch_size,\n",
        "          epochs=4,\n",
        "          validation_data=[x_test, y_test])"
      ],
      "metadata": {
        "colab": {
          "base_uri": "https://localhost:8080/"
        },
        "id": "tedDgPs0sBgb",
        "outputId": "c8e61d4a-ed52-4a4e-cf24-85500b4d3c9a"
      },
      "execution_count": null,
      "outputs": [
        {
          "output_type": "stream",
          "name": "stdout",
          "text": [
            "Epoch 1/4\n",
            "196/196 [==============================] - 187s 935ms/step - loss: 0.4538 - accuracy: 0.7782 - val_loss: 0.3130 - val_accuracy: 0.8667\n",
            "Epoch 2/4\n",
            "196/196 [==============================] - 182s 928ms/step - loss: 0.2457 - accuracy: 0.9074 - val_loss: 0.3082 - val_accuracy: 0.8678\n",
            "Epoch 3/4\n",
            "196/196 [==============================] - 181s 926ms/step - loss: 0.1853 - accuracy: 0.9335 - val_loss: 0.3391 - val_accuracy: 0.8694\n",
            "Epoch 4/4\n",
            "196/196 [==============================] - 182s 927ms/step - loss: 0.1373 - accuracy: 0.9514 - val_loss: 0.3996 - val_accuracy: 0.8517\n"
          ]
        },
        {
          "output_type": "execute_result",
          "data": {
            "text/plain": [
              "<keras.callbacks.History at 0x7f7e4ca15e90>"
            ]
          },
          "metadata": {},
          "execution_count": 43
        }
      ]
    },
    {
      "cell_type": "code",
      "source": [
        "model.summary()"
      ],
      "metadata": {
        "colab": {
          "base_uri": "https://localhost:8080/"
        },
        "id": "rc-fbQQrx3Db",
        "outputId": "6ac5bfd2-e2c5-42b3-eacb-3b7f5e61a601"
      },
      "execution_count": null,
      "outputs": [
        {
          "output_type": "stream",
          "name": "stdout",
          "text": [
            "Model: \"sequential_7\"\n",
            "_________________________________________________________________\n",
            " Layer (type)                Output Shape              Param #   \n",
            "=================================================================\n",
            " embedding_11 (Embedding)    (None, 200, 128)          1280000   \n",
            "                                                                 \n",
            " bidirectional (Bidirectiona  (None, 128)              98816     \n",
            " l)                                                              \n",
            "                                                                 \n",
            " dropout (Dropout)           (None, 128)               0         \n",
            "                                                                 \n",
            " dense_11 (Dense)            (None, 1)                 129       \n",
            "                                                                 \n",
            "=================================================================\n",
            "Total params: 1,378,945\n",
            "Trainable params: 1,378,945\n",
            "Non-trainable params: 0\n",
            "_________________________________________________________________\n"
          ]
        }
      ]
    },
    {
      "cell_type": "code",
      "source": [
        "loss, acc = model.evaluate(x_train, y_train, batch_size=384, verbose=1)\n",
        "print ('Training accuracy', model.metrics_names, acc)\n",
        "print ('Training accuracy', model.metrics_names, loss)\n",
        "loss, acc = model.evaluate(x_test, y_test, batch_size=384, verbose=1)\n",
        "print ('Testing accuracy', model.metrics_names, acc)\n",
        "print ('Testing accuracy', model.metrics_names, loss)"
      ],
      "metadata": {
        "colab": {
          "base_uri": "https://localhost:8080/"
        },
        "id": "8QywhpQsx3F8",
        "outputId": "e5801630-434b-4838-9430-137e190ca943"
      },
      "execution_count": null,
      "outputs": [
        {
          "output_type": "stream",
          "name": "stdout",
          "text": [
            "66/66 [==============================] - 37s 554ms/step - loss: 0.1400 - accuracy: 0.9484\n",
            "Training accuracy ['loss', 'accuracy'] 0.948360025882721\n",
            "Training accuracy ['loss', 'accuracy'] 0.1399671584367752\n",
            "66/66 [==============================] - 36s 552ms/step - loss: 0.3996 - accuracy: 0.8517\n",
            "Testing accuracy ['loss', 'accuracy'] 0.8516799807548523\n",
            "Testing accuracy ['loss', 'accuracy'] 0.3996061682701111\n"
          ]
        }
      ]
    },
    {
      "cell_type": "code",
      "source": [
        ""
      ],
      "metadata": {
        "id": "uePHLoEZx3Ia"
      },
      "execution_count": null,
      "outputs": []
    }
  ]
}