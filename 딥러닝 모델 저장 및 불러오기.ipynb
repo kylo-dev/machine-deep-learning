{
 "cells": [
  {
   "cell_type": "markdown",
   "id": "9b5f7f38",
   "metadata": {},
   "source": [
    "# 학습 모델 보기 / 저장하기 / 불러오기\n",
    "\n",
    ">   딥러닝 모델을 사용하려면 매번 계속 몇시간 동안 학습시켜야 되는지 궁금할 것입니다. <br />딥러닝 모델을 학습시킨다는 의미는 딥러닝 모델이 가지고 있는 뉴런들의 가중치를 조정하는 것을 의미합니다. <br /> 그러므로, 우리는 모델 구성과 가중치를 저장만 해놓으면, 필요할 때 언제든 저장한 모델의 구성과 가중치를 불러와서 사용할 수 있습니다.\n"
   ]
  },
  {
   "cell_type": "code",
   "execution_count": 1,
   "id": "11bd4cee",
   "metadata": {},
   "outputs": [],
   "source": [
    "# 라이브러리 불러오기\n",
    "from keras.utils import np_utils\n",
    "from keras.datasets import mnist\n",
    "from keras.models import Sequential\n",
    "from keras.layers import Dense, Activation\n",
    "import numpy as np"
   ]
  },
  {
   "cell_type": "code",
   "execution_count": 2,
   "id": "48f2133e",
   "metadata": {},
   "outputs": [
    {
     "name": "stdout",
     "output_type": "stream",
     "text": [
      "Train 형태 : (60000, 28, 28), (60000,)\n",
      "Test 형태 : (10000, 28, 28), (10000,)\n"
     ]
    }
   ],
   "source": [
    "# 데이터셋 생성하기\n",
    "(x_train, y_train), (x_test, y_test) =mnist.load_data()\n",
    "\n",
    "print(f'Train 형태 : {x_train.shape}, {y_train.shape}')\n",
    "print(f'Test 형태 : {x_test.shape}, {y_test.shape}')"
   ]
  },
  {
   "cell_type": "code",
   "execution_count": 3,
   "id": "c687c5b7",
   "metadata": {},
   "outputs": [],
   "source": [
    "# 데이터셋 전처리\n",
    "x_train = x_train.reshape(60000, 784).astype('float32') / 255.0\n",
    "x_test = x_test.reshape(10000, 784).astype('float32') / 255.0"
   ]
  },
  {
   "cell_type": "code",
   "execution_count": 4,
   "id": "8c6817ce",
   "metadata": {},
   "outputs": [
    {
     "name": "stdout",
     "output_type": "stream",
     "text": [
      "[5 0 4 1 9]\n"
     ]
    }
   ],
   "source": [
    "print(y_train[:5])"
   ]
  },
  {
   "cell_type": "code",
   "execution_count": 5,
   "id": "c5001cc5",
   "metadata": {},
   "outputs": [],
   "source": [
    "# 원-핫인 코딩 (Converts a class vector (integers) to binary class matrix.)\n",
    "y_train = np_utils.to_categorical(y_train)\n",
    "y_test = np_utils.to_categorical(y_test)"
   ]
  },
  {
   "cell_type": "code",
   "execution_count": 6,
   "id": "d36e61fd",
   "metadata": {},
   "outputs": [],
   "source": [
    "# 훈련셋과 검증셋 분리\n",
    "x_val = x_train[42000:] # 훈련셋의 30%를 검증셋으로\n",
    "x_train = x_train[:42000]\n",
    "y_val = y_train[42000:]\n",
    "y_train = y_train[:42000]"
   ]
  },
  {
   "cell_type": "code",
   "execution_count": 7,
   "id": "6fa9de19",
   "metadata": {},
   "outputs": [
    {
     "name": "stdout",
     "output_type": "stream",
     "text": [
      "Train 형태 : (42000, 784), (42000, 10)\n",
      "val 형태 : (18000, 784), (18000, 10)\n"
     ]
    }
   ],
   "source": [
    "print(f'Train 형태 : {x_train.shape}, {y_train.shape}')\n",
    "print(f'val 형태 : {x_val.shape}, {y_val.shape}')"
   ]
  },
  {
   "cell_type": "code",
   "execution_count": 8,
   "id": "27942616",
   "metadata": {},
   "outputs": [],
   "source": [
    "# 모델 구성하기\n",
    "model = Sequential()\n",
    "model.add(Dense(units=64, input_dim=28*28, activation='relu'))\n",
    "model.add(Dense(units=10, activation='softmax'))"
   ]
  },
  {
   "cell_type": "code",
   "execution_count": 9,
   "id": "1527ad70",
   "metadata": {},
   "outputs": [],
   "source": [
    "# 모델 컴파일 설정하기\n",
    "model.compile(loss='categorical_crossentropy', optimizer='sgd', metrics=['accuracy'])"
   ]
  },
  {
   "cell_type": "code",
   "execution_count": 10,
   "id": "bea5cff8",
   "metadata": {},
   "outputs": [
    {
     "name": "stdout",
     "output_type": "stream",
     "text": [
      "Epoch 1/5\n",
      "1313/1313 [==============================] - 6s 4ms/step - loss: 0.8241 - accuracy: 0.7964 - val_loss: 0.4293 - val_accuracy: 0.8857\n",
      "Epoch 2/5\n",
      "1313/1313 [==============================] - 6s 4ms/step - loss: 0.3928 - accuracy: 0.8924 - val_loss: 0.3463 - val_accuracy: 0.9024\n",
      "Epoch 3/5\n",
      "1313/1313 [==============================] - 5s 4ms/step - loss: 0.3346 - accuracy: 0.9059 - val_loss: 0.3121 - val_accuracy: 0.9108\n",
      "Epoch 4/5\n",
      "1313/1313 [==============================] - 7s 5ms/step - loss: 0.3020 - accuracy: 0.9147 - val_loss: 0.2872 - val_accuracy: 0.9182\n",
      "Epoch 5/5\n",
      "1313/1313 [==============================] - 8s 6ms/step - loss: 0.2783 - accuracy: 0.9206 - val_loss: 0.2687 - val_accuracy: 0.9236\n"
     ]
    },
    {
     "data": {
      "text/plain": [
       "<keras.callbacks.History at 0x20b004b3850>"
      ]
     },
     "execution_count": 10,
     "metadata": {},
     "output_type": "execute_result"
    }
   ],
   "source": [
    "# 모델 학습시키기\n",
    "model.fit(x_train, y_train, epochs=5, batch_size=32, validation_data=(x_val, y_val))"
   ]
  },
  {
   "cell_type": "code",
   "execution_count": 11,
   "id": "224124fe",
   "metadata": {},
   "outputs": [
    {
     "name": "stdout",
     "output_type": "stream",
     "text": [
      "313/313 [==============================] - 1s 2ms/step - loss: 0.2613 - accuracy: 0.9268\n",
      "====================\n",
      "loss_and_metrics : [0.26126807928085327, 0.926800012588501]\n"
     ]
    }
   ],
   "source": [
    "# 모델 평가하기\n",
    "loss_and_metrics = model.evaluate(x_test, y_test, batch_size=32)\n",
    "print(\"====================\")\n",
    "print(\"loss_and_metrics : \" + str(loss_and_metrics))"
   ]
  },
  {
   "cell_type": "code",
   "execution_count": 12,
   "id": "3eac7d48",
   "metadata": {},
   "outputs": [
    {
     "name": "stdout",
     "output_type": "stream",
     "text": [
      "True : 7, Predict : 7\n",
      "True : 8, Predict : 8\n",
      "True : 3, Predict : 3\n",
      "True : 0, Predict : 0\n",
      "True : 7, Predict : 7\n"
     ]
    }
   ],
   "source": [
    "# 모델 사용하기\n",
    "from numpy import argmax\n",
    "xhat_idx = np.random.choice(x_test.shape[0], 5)\n",
    "xhat = x_test[xhat_idx]\n",
    "yhat_pred = model.predict(xhat, verbose=0) \n",
    "yhat = yhat_pred.argmax(axis=-1)\n",
    "\n",
    "for i in range(5):\n",
    "    print('True : ' + str(np.argmax(y_test[xhat_idx[i]])) + ', Predict : ' + str(yhat[i]))"
   ]
  },
  {
   "cell_type": "markdown",
   "id": "1f458de8",
   "metadata": {},
   "source": [
    "## 학습된 모델 저장하기 ( model.save(\"***.h5\") )\n",
    "\n",
    "*   모델은 크게 모델 '아키텍처'와 모델 '가중치'로 구성됩니다.\n",
    "*   아키텍처는 모델이 어떤 층으로 어떻게 쌓여있는 지에 대한 모델 구성이 정의되어 있습니다.\n",
    "*   가중치는 처음에는 임의의 값으로 초기화되어 있지만, 훈련셋으로 학습하면서 갱신됩니다."
   ]
  },
  {
   "cell_type": "code",
   "execution_count": 21,
   "id": "9369dd99",
   "metadata": {},
   "outputs": [],
   "source": [
    "from keras.models import load_model\n",
    "model.save('mnist_mlp_model.h5')"
   ]
  },
  {
   "attachments": {
    "image.png": {
     "image/png": "[encoded data removed]"
    }
   },
   "cell_type": "markdown",
   "id": "96bec6ca",
   "metadata": {},
   "source": [
    "![image.png](attachment:image.png)\n",
    "저장된 파일에 다음의 정보가 저장되어 있다.\n",
    "*   나중에 모델을 재구성하기 위한 모델의 구성 정보\n",
    "*   모델를 구성하는 각 뉴런들의 가중치\n",
    "*   손실함수, 최적하기 등의 학습 설정\n",
    "*   재학습을 할 수 있도록 마지막 학습 상태"
   ]
  },
  {
   "cell_type": "markdown",
   "id": "5e822a39",
   "metadata": {},
   "source": [
    "## 모델 아키텍쳐 보기"
   ]
  },
  {
   "cell_type": "code",
   "execution_count": 15,
   "id": "f410d55f",
   "metadata": {},
   "outputs": [
    {
     "name": "stdout",
     "output_type": "stream",
     "text": [
      "Model: \"sequential\"\n",
      "_________________________________________________________________\n",
      " Layer (type)                Output Shape              Param #   \n",
      "=================================================================\n",
      " dense (Dense)               (None, 64)                50240     \n",
      "                                                                 \n",
      " dense_1 (Dense)             (None, 10)                650       \n",
      "                                                                 \n",
      "=================================================================\n",
      "Total params: 50,890\n",
      "Trainable params: 50,890\n",
      "Non-trainable params: 0\n",
      "_________________________________________________________________\n"
     ]
    }
   ],
   "source": [
    "model.summary()"
   ]
  },
  {
   "cell_type": "code",
   "execution_count": 22,
   "id": "257f50c9",
   "metadata": {},
   "outputs": [
    {
     "data": {
      "image/svg+xml": [
       "<svg xmlns=\"http://www.w3.org/2000/svg\" xmlns:xlink=\"http://www.w3.org/1999/xlink\" width=\"300pt\" height=\"200pt\" viewBox=\"0.00 0.00 332.00 221.00\">\n",
       "<g id=\"graph0\" class=\"graph\" transform=\"scale(0.902778 0.902778) rotate(0) translate(4 217)\">\n",
       "<title>G</title>\n",
       "<polygon fill=\"white\" stroke=\"none\" points=\"-4,4 -4,-217 328,-217 328,4 -4,4\"/>\n",
       "<!-- 2248119892192 -->\n",
       "<g id=\"node1\" class=\"node\"><title>2248119892192</title>\n",
       "<polygon fill=\"none\" stroke=\"black\" points=\"0,-166.5 0,-212.5 324,-212.5 324,-166.5 0,-166.5\"/>\n",
       "<text text-anchor=\"middle\" x=\"42\" y=\"-197.3\" font-family=\"Times New Roman,serif\" font-size=\"14.00\">dense_input</text>\n",
       "<polyline fill=\"none\" stroke=\"black\" points=\"0,-189.5 84,-189.5 \"/>\n",
       "<text text-anchor=\"middle\" x=\"42\" y=\"-174.3\" font-family=\"Times New Roman,serif\" font-size=\"14.00\">InputLayer</text>\n",
       "<polyline fill=\"none\" stroke=\"black\" points=\"84,-166.5 84,-212.5 \"/>\n",
       "<text text-anchor=\"middle\" x=\"112\" y=\"-197.3\" font-family=\"Times New Roman,serif\" font-size=\"14.00\">input:</text>\n",
       "<polyline fill=\"none\" stroke=\"black\" points=\"84,-189.5 140,-189.5 \"/>\n",
       "<text text-anchor=\"middle\" x=\"112\" y=\"-174.3\" font-family=\"Times New Roman,serif\" font-size=\"14.00\">output:</text>\n",
       "<polyline fill=\"none\" stroke=\"black\" points=\"140,-166.5 140,-212.5 \"/>\n",
       "<text text-anchor=\"middle\" x=\"186\" y=\"-185.8\" font-family=\"Times New Roman,serif\" font-size=\"14.00\">[(None, 784)]</text>\n",
       "<polyline fill=\"none\" stroke=\"black\" points=\"232,-166.5 232,-212.5 \"/>\n",
       "<text text-anchor=\"middle\" x=\"278\" y=\"-185.8\" font-family=\"Times New Roman,serif\" font-size=\"14.00\">[(None, 784)]</text>\n",
       "</g>\n",
       "<!-- 2248119935712 -->\n",
       "<g id=\"node2\" class=\"node\"><title>2248119935712</title>\n",
       "<polygon fill=\"none\" stroke=\"black\" points=\"28.5,-83.5 28.5,-129.5 295.5,-129.5 295.5,-83.5 28.5,-83.5\"/>\n",
       "<text text-anchor=\"middle\" x=\"54\" y=\"-114.3\" font-family=\"Times New Roman,serif\" font-size=\"14.00\">dense</text>\n",
       "<polyline fill=\"none\" stroke=\"black\" points=\"28.5,-106.5 79.5,-106.5 \"/>\n",
       "<text text-anchor=\"middle\" x=\"54\" y=\"-91.3\" font-family=\"Times New Roman,serif\" font-size=\"14.00\">Dense</text>\n",
       "<polyline fill=\"none\" stroke=\"black\" points=\"79.5,-83.5 79.5,-129.5 \"/>\n",
       "<text text-anchor=\"middle\" x=\"107.5\" y=\"-114.3\" font-family=\"Times New Roman,serif\" font-size=\"14.00\">input:</text>\n",
       "<polyline fill=\"none\" stroke=\"black\" points=\"79.5,-106.5 135.5,-106.5 \"/>\n",
       "<text text-anchor=\"middle\" x=\"107.5\" y=\"-91.3\" font-family=\"Times New Roman,serif\" font-size=\"14.00\">output:</text>\n",
       "<polyline fill=\"none\" stroke=\"black\" points=\"135.5,-83.5 135.5,-129.5 \"/>\n",
       "<text text-anchor=\"middle\" x=\"177\" y=\"-102.8\" font-family=\"Times New Roman,serif\" font-size=\"14.00\">(None, 784)</text>\n",
       "<polyline fill=\"none\" stroke=\"black\" points=\"218.5,-83.5 218.5,-129.5 \"/>\n",
       "<text text-anchor=\"middle\" x=\"257\" y=\"-102.8\" font-family=\"Times New Roman,serif\" font-size=\"14.00\">(None, 64)</text>\n",
       "</g>\n",
       "<!-- 2248119892192&#45;&gt;2248119935712 -->\n",
       "<g id=\"edge1\" class=\"edge\"><title>2248119892192-&gt;2248119935712</title>\n",
       "<path fill=\"none\" stroke=\"black\" d=\"M162,-166.366C162,-158.152 162,-148.658 162,-139.725\"/>\n",
       "<polygon fill=\"black\" stroke=\"black\" points=\"165.5,-139.607 162,-129.607 158.5,-139.607 165.5,-139.607\"/>\n",
       "</g>\n",
       "<!-- 2248119914848 -->\n",
       "<g id=\"node3\" class=\"node\"><title>2248119914848</title>\n",
       "<polygon fill=\"none\" stroke=\"black\" points=\"25.5,-0.5 25.5,-46.5 298.5,-46.5 298.5,-0.5 25.5,-0.5\"/>\n",
       "<text text-anchor=\"middle\" x=\"57\" y=\"-31.3\" font-family=\"Times New Roman,serif\" font-size=\"14.00\">dense_1</text>\n",
       "<polyline fill=\"none\" stroke=\"black\" points=\"25.5,-23.5 88.5,-23.5 \"/>\n",
       "<text text-anchor=\"middle\" x=\"57\" y=\"-8.3\" font-family=\"Times New Roman,serif\" font-size=\"14.00\">Dense</text>\n",
       "<polyline fill=\"none\" stroke=\"black\" points=\"88.5,-0.5 88.5,-46.5 \"/>\n",
       "<text text-anchor=\"middle\" x=\"116.5\" y=\"-31.3\" font-family=\"Times New Roman,serif\" font-size=\"14.00\">input:</text>\n",
       "<polyline fill=\"none\" stroke=\"black\" points=\"88.5,-23.5 144.5,-23.5 \"/>\n",
       "<text text-anchor=\"middle\" x=\"116.5\" y=\"-8.3\" font-family=\"Times New Roman,serif\" font-size=\"14.00\">output:</text>\n",
       "<polyline fill=\"none\" stroke=\"black\" points=\"144.5,-0.5 144.5,-46.5 \"/>\n",
       "<text text-anchor=\"middle\" x=\"183\" y=\"-19.8\" font-family=\"Times New Roman,serif\" font-size=\"14.00\">(None, 64)</text>\n",
       "<polyline fill=\"none\" stroke=\"black\" points=\"221.5,-0.5 221.5,-46.5 \"/>\n",
       "<text text-anchor=\"middle\" x=\"260\" y=\"-19.8\" font-family=\"Times New Roman,serif\" font-size=\"14.00\">(None, 10)</text>\n",
       "</g>\n",
       "<!-- 2248119935712&#45;&gt;2248119914848 -->\n",
       "<g id=\"edge2\" class=\"edge\"><title>2248119935712-&gt;2248119914848</title>\n",
       "<path fill=\"none\" stroke=\"black\" d=\"M162,-83.3664C162,-75.1516 162,-65.6579 162,-56.7252\"/>\n",
       "<polygon fill=\"black\" stroke=\"black\" points=\"165.5,-56.6068 162,-46.6068 158.5,-56.6069 165.5,-56.6068\"/>\n",
       "</g>\n",
       "</g>\n",
       "</svg>"
      ],
      "text/plain": [
       "<IPython.core.display.SVG object>"
      ]
     },
     "execution_count": 22,
     "metadata": {},
     "output_type": "execute_result"
    }
   ],
   "source": [
    "from IPython.display import SVG\n",
    "from keras.utils.vis_utils import model_to_dot\n",
    "\n",
    "%matplotlib inline\n",
    "\n",
    "SVG(model_to_dot(model, show_shapes=True, dpi=65).create(prog='dot', format='svg'))"
   ]
  },
  {
   "cell_type": "markdown",
   "id": "8ecc7f13",
   "metadata": {},
   "source": [
    "## 모델 불러오기 ( load_model(\"***.h5\")\n",
    "*   모델 불러오는 함수를 이용하여 앞서 저장한 모델 파일로부터 모델을 재형성한다."
   ]
  },
  {
   "cell_type": "code",
   "execution_count": 14,
   "id": "7673f36e",
   "metadata": {},
   "outputs": [
    {
     "name": "stdout",
     "output_type": "stream",
     "text": [
      "True : 7, Predict : 7\n",
      "True : 8, Predict : 8\n",
      "True : 3, Predict : 3\n",
      "True : 0, Predict : 0\n",
      "True : 7, Predict : 7\n"
     ]
    }
   ],
   "source": [
    "# 2. 모델 불러오기\n",
    "from keras.models import load_model\n",
    "model2 = load_model('mnist_mlp_model.h5')\n",
    "\n",
    "# 3. 모델 사용하기\n",
    "yhat_pred = model2.predict(xhat, verbose=0) \n",
    "yhat = yhat_pred.argmax(axis=-1)\n",
    "\n",
    "for i in range(5):\n",
    "    print('True : ' + str(np.argmax(y_test[xhat_idx[i]])) + ', Predict : ' + str(yhat[i]))"
   ]
  },
  {
   "cell_type": "markdown",
   "id": "397a9753",
   "metadata": {},
   "source": [
    "---\n",
    "\n",
    "## 모델 가중치를 따로 저장가능한가?\n",
    "\n",
    ">   가능합니다. "
   ]
  },
  {
   "cell_type": "code",
   "execution_count": 17,
   "id": "1e52f033",
   "metadata": {},
   "outputs": [],
   "source": [
    "# 가중치 저장하기\n",
    "model.save_weights('mnist_mlp_weights.h5')"
   ]
  },
  {
   "cell_type": "code",
   "execution_count": 19,
   "id": "8b0d9ec3",
   "metadata": {},
   "outputs": [
    {
     "name": "stdout",
     "output_type": "stream",
     "text": [
      "313/313 [==============================] - 1s 2ms/step - loss: 2.4632 - accuracy: 0.0573\n"
     ]
    },
    {
     "data": {
      "text/plain": [
       "[2.4632456302642822, 0.05730000138282776]"
      ]
     },
     "execution_count": 19,
     "metadata": {},
     "output_type": "execute_result"
    }
   ],
   "source": [
    "# 새 모델에 가중치 없이 돌리기.\n",
    "\n",
    "# 모델 구성하기\n",
    "new_model = Sequential()\n",
    "new_model.add(Dense(units=64, input_dim=28*28, activation='relu'))\n",
    "new_model.add(Dense(units=10, activation='softmax'))\n",
    "\n",
    "new_model.compile(loss='categorical_crossentropy', optimizer='sgd', metrics=['accuracy'])\n",
    "new_model.evaluate(x_test, y_test, batch_size=32)"
   ]
  },
  {
   "cell_type": "code",
   "execution_count": 20,
   "id": "f25c9a5d",
   "metadata": {},
   "outputs": [
    {
     "name": "stdout",
     "output_type": "stream",
     "text": [
      "313/313 [==============================] - 1s 2ms/step - loss: 0.2613 - accuracy: 0.9268\n"
     ]
    },
    {
     "data": {
      "text/plain": [
       "[0.26126807928085327, 0.926800012588501]"
      ]
     },
     "execution_count": 20,
     "metadata": {},
     "output_type": "execute_result"
    }
   ],
   "source": [
    "# 가중치 불러오기\n",
    "new_model.load_weights(\"mnist_mlp_weights.h5\")\n",
    "new_model.evaluate(x_test, y_test, batch_size=32)"
   ]
  },
  {
   "cell_type": "code",
   "execution_count": null,
   "id": "ce17a939",
   "metadata": {},
   "outputs": [],
   "source": []
  }
 ],
 "metadata": {
  "kernelspec": {
   "display_name": "Python 3 (ipykernel)",
   "language": "python",
   "name": "python3"
  },
  "language_info": {
   "codemirror_mode": {
    "name": "ipython",
    "version": 3
   },
   "file_extension": ".py",
   "mimetype": "text/x-python",
   "name": "python",
   "nbconvert_exporter": "python",
   "pygments_lexer": "ipython3",
   "version": "3.9.12"
  }
 },
 "nbformat": 4,
 "nbformat_minor": 5
}
